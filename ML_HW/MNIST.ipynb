{
 "cells": [
  {
   "attachments": {},
   "cell_type": "markdown",
   "metadata": {},
   "source": [
    "## ML Assignment 1 - MNIST, DT, SVM\n",
    "prof. Eunwoo Kim\n",
    "\n",
    "CAU SW 20184286 Donghwa Lee\n",
    "\n",
    "2023.04.21"
   ]
  },
  {
   "cell_type": "code",
   "execution_count": 1,
   "metadata": {},
   "outputs": [],
   "source": [
    "from torch.utils.data import DataLoader\n",
    "from torchvision import transforms, datasets\n",
    "import numpy as np\n",
    "from sklearn import svm\n",
    "from sklearn.metrics import accuracy_score\n",
    "from sklearn.tree import DecisionTreeClassifier\n",
    "from scipy.stats import randint\n",
    "from sklearn.model_selection import GridSearchCV\n",
    "import pandas as pd"
   ]
  },
  {
   "cell_type": "code",
   "execution_count": 2,
   "metadata": {},
   "outputs": [],
   "source": [
    "# MNIST\n",
    "mnist_train_transform = transforms.Compose([transforms.ToTensor()])\n",
    "mnist_test_transform = transforms.Compose([transforms.ToTensor()])\n",
    "\n",
    "trainset_mnist = datasets.MNIST(root='./data', train=True, download=True,transform=mnist_train_transform)\n",
    "testset_mnist = datasets.MNIST(root='./data', train=False, download=True,transform=mnist_test_transform)\n",
    "\n",
    "MNIST_train = DataLoader(trainset_mnist, batch_size=32, shuffle=True, num_workers=2)\n",
    "MNIST_test = DataLoader(testset_mnist, batch_size=32, shuffle=False, num_workers=2)\n",
    "\n",
    "# MNIST train\n",
    "MNIST_train_images = []\n",
    "MNIST_train_labels = []\n",
    "\n",
    "for batch in MNIST_train:\n",
    "    images, labels = batch\n",
    "    images_flat = images.view(images.shape[0], -1)\n",
    "    MNIST_train_images.append(images_flat.numpy())\n",
    "    MNIST_train_labels.append(labels.numpy())\n",
    "\n",
    "MNIST_train_images = np.vstack(MNIST_train_images)\n",
    "MNIST_train_labels = np.concatenate(MNIST_train_labels)\n",
    "\n",
    "# MNIST test\n",
    "MNIST_test_images = []\n",
    "MNIST_test_labels = []\n",
    "\n",
    "for batch in MNIST_test:\n",
    "    images, labels = batch\n",
    "    images_flat = images.view(images.shape[0], -1)\n",
    "    MNIST_test_images.append(images_flat.numpy())\n",
    "    MNIST_test_labels.append(labels.numpy())\n",
    "    \n",
    "MNIST_test_images = np.vstack(MNIST_test_images)\n",
    "MNIST_test_labels = np.concatenate(MNIST_test_labels)\n",
    "\n",
    "# X = images\n",
    "# y = labels"
   ]
  },
  {
   "cell_type": "code",
   "execution_count": 3,
   "metadata": {},
   "outputs": [],
   "source": [
    "def show_accuracy(y_true, y_pred, model_name):\n",
    "    return pd.Series({'accuracy':accuracy_score(y_true, y_pred)},\n",
    "                      name=model_name)"
   ]
  },
  {
   "attachments": {},
   "cell_type": "markdown",
   "metadata": {},
   "source": [
    "### Decision Tree"
   ]
  },
  {
   "cell_type": "code",
   "execution_count": 4,
   "metadata": {},
   "outputs": [],
   "source": [
    "params_grid = {'min_samples_split':[2, 5, 10],\n",
    "              'min_samples_leaf': [1, 2, 4],\n",
    "              'max_leaf_nodes': [5, 10, None]}"
   ]
  },
  {
   "attachments": {},
   "cell_type": "markdown",
   "metadata": {},
   "source": [
    "##### depth : 3"
   ]
  },
  {
   "cell_type": "code",
   "execution_count": 5,
   "metadata": {},
   "outputs": [],
   "source": [
    "DT_d3 = DecisionTreeClassifier(max_depth=3)\n",
    "\n",
    "grid_DT = GridSearchCV(DT_d3,\n",
    "                       param_grid=params_grid,\n",
    "                       cv=5)"
   ]
  },
  {
   "cell_type": "code",
   "execution_count": 6,
   "metadata": {},
   "outputs": [
    {
     "data": {
      "text/html": [
       "<div>\n",
       "<style scoped>\n",
       "    .dataframe tbody tr th:only-of-type {\n",
       "        vertical-align: middle;\n",
       "    }\n",
       "\n",
       "    .dataframe tbody tr th {\n",
       "        vertical-align: top;\n",
       "    }\n",
       "\n",
       "    .dataframe thead th {\n",
       "        text-align: right;\n",
       "    }\n",
       "</style>\n",
       "<table border=\"1\" class=\"dataframe\">\n",
       "  <thead>\n",
       "    <tr style=\"text-align: right;\">\n",
       "      <th></th>\n",
       "      <th>MNIST_DT_d3_train</th>\n",
       "      <th>MNIST_DT_d3_test</th>\n",
       "    </tr>\n",
       "  </thead>\n",
       "  <tbody>\n",
       "    <tr>\n",
       "      <th>accuracy</th>\n",
       "      <td>0.491517</td>\n",
       "      <td>0.4953</td>\n",
       "    </tr>\n",
       "  </tbody>\n",
       "</table>\n",
       "</div>"
      ],
      "text/plain": [
       "          MNIST_DT_d3_train  MNIST_DT_d3_test\n",
       "accuracy           0.491517            0.4953"
      ]
     },
     "execution_count": 6,
     "metadata": {},
     "output_type": "execute_result"
    }
   ],
   "source": [
    "grid_DT.fit(MNIST_train_images, MNIST_train_labels)\n",
    "\n",
    "MNIST_train_labels_pred = grid_DT.predict(MNIST_train_images)\n",
    "MNIST_test_labels_pred = grid_DT.predict(MNIST_test_images)\n",
    "\n",
    "MNIST_DT_d3_accuracy = pd.concat([show_accuracy(MNIST_train_labels, MNIST_train_labels_pred, 'MNIST_DT_d3_train'),\n",
    "                                  show_accuracy(MNIST_test_labels, MNIST_test_labels_pred, 'MNIST_DT_d3_test')],\n",
    "                                  axis=1)\n",
    "\n",
    "MNIST_DT_d3_accuracy"
   ]
  },
  {
   "attachments": {},
   "cell_type": "markdown",
   "metadata": {},
   "source": [
    "##### depth : 6"
   ]
  },
  {
   "cell_type": "code",
   "execution_count": 7,
   "metadata": {},
   "outputs": [],
   "source": [
    "DT_d6 = DecisionTreeClassifier(max_depth=6)\n",
    "\n",
    "grid_DT = GridSearchCV(DT_d6,\n",
    "                       param_grid=params_grid,\n",
    "                       cv=5)"
   ]
  },
  {
   "cell_type": "code",
   "execution_count": 8,
   "metadata": {},
   "outputs": [
    {
     "data": {
      "text/html": [
       "<div>\n",
       "<style scoped>\n",
       "    .dataframe tbody tr th:only-of-type {\n",
       "        vertical-align: middle;\n",
       "    }\n",
       "\n",
       "    .dataframe tbody tr th {\n",
       "        vertical-align: top;\n",
       "    }\n",
       "\n",
       "    .dataframe thead th {\n",
       "        text-align: right;\n",
       "    }\n",
       "</style>\n",
       "<table border=\"1\" class=\"dataframe\">\n",
       "  <thead>\n",
       "    <tr style=\"text-align: right;\">\n",
       "      <th></th>\n",
       "      <th>MNIST_DT_d6_train</th>\n",
       "      <th>MNIST_DT_d6_test</th>\n",
       "    </tr>\n",
       "  </thead>\n",
       "  <tbody>\n",
       "    <tr>\n",
       "      <th>accuracy</th>\n",
       "      <td>0.73825</td>\n",
       "      <td>0.7415</td>\n",
       "    </tr>\n",
       "  </tbody>\n",
       "</table>\n",
       "</div>"
      ],
      "text/plain": [
       "          MNIST_DT_d6_train  MNIST_DT_d6_test\n",
       "accuracy            0.73825            0.7415"
      ]
     },
     "execution_count": 8,
     "metadata": {},
     "output_type": "execute_result"
    }
   ],
   "source": [
    "grid_DT.fit(MNIST_train_images, MNIST_train_labels)\n",
    "\n",
    "MNIST_train_labels_pred = grid_DT.predict(MNIST_train_images)\n",
    "MNIST_test_labels_pred = grid_DT.predict(MNIST_test_images)\n",
    "\n",
    "MNIST_DT_d6_accuracy = pd.concat([show_accuracy(MNIST_train_labels, MNIST_train_labels_pred, 'MNIST_DT_d6_train'),\n",
    "                                  show_accuracy(MNIST_test_labels, MNIST_test_labels_pred, 'MNIST_DT_d6_test')],\n",
    "                                  axis=1)\n",
    "\n",
    "MNIST_DT_d6_accuracy"
   ]
  },
  {
   "attachments": {},
   "cell_type": "markdown",
   "metadata": {},
   "source": [
    "#### depth : 9"
   ]
  },
  {
   "cell_type": "code",
   "execution_count": 9,
   "metadata": {},
   "outputs": [],
   "source": [
    "DT_d9 = DecisionTreeClassifier(max_depth=9)\n",
    "\n",
    "grid_DT = GridSearchCV(DT_d9,\n",
    "                       param_grid=params_grid,\n",
    "                       cv=5)"
   ]
  },
  {
   "cell_type": "code",
   "execution_count": 10,
   "metadata": {},
   "outputs": [
    {
     "data": {
      "text/html": [
       "<div>\n",
       "<style scoped>\n",
       "    .dataframe tbody tr th:only-of-type {\n",
       "        vertical-align: middle;\n",
       "    }\n",
       "\n",
       "    .dataframe tbody tr th {\n",
       "        vertical-align: top;\n",
       "    }\n",
       "\n",
       "    .dataframe thead th {\n",
       "        text-align: right;\n",
       "    }\n",
       "</style>\n",
       "<table border=\"1\" class=\"dataframe\">\n",
       "  <thead>\n",
       "    <tr style=\"text-align: right;\">\n",
       "      <th></th>\n",
       "      <th>MNIST_DT_d9_train</th>\n",
       "      <th>MNIST_DT_d9_test</th>\n",
       "    </tr>\n",
       "  </thead>\n",
       "  <tbody>\n",
       "    <tr>\n",
       "      <th>accuracy</th>\n",
       "      <td>0.8661</td>\n",
       "      <td>0.8505</td>\n",
       "    </tr>\n",
       "  </tbody>\n",
       "</table>\n",
       "</div>"
      ],
      "text/plain": [
       "          MNIST_DT_d9_train  MNIST_DT_d9_test\n",
       "accuracy             0.8661            0.8505"
      ]
     },
     "execution_count": 10,
     "metadata": {},
     "output_type": "execute_result"
    }
   ],
   "source": [
    "grid_DT.fit(MNIST_train_images, MNIST_train_labels)\n",
    "\n",
    "MNIST_train_labels_pred = grid_DT.predict(MNIST_train_images)\n",
    "MNIST_test_labels_pred = grid_DT.predict(MNIST_test_images)\n",
    "\n",
    "MNIST_DT_d9_accuracy = pd.concat([show_accuracy(MNIST_train_labels, MNIST_train_labels_pred, 'MNIST_DT_d9_train'),\n",
    "                                  show_accuracy(MNIST_test_labels, MNIST_test_labels_pred, 'MNIST_DT_d9_test')],\n",
    "                                  axis=1)\n",
    "\n",
    "MNIST_DT_d9_accuracy"
   ]
  },
  {
   "attachments": {},
   "cell_type": "markdown",
   "metadata": {},
   "source": [
    "#### depth : 12"
   ]
  },
  {
   "cell_type": "code",
   "execution_count": 11,
   "metadata": {},
   "outputs": [],
   "source": [
    "DT_d12 = DecisionTreeClassifier(max_depth=12)\n",
    "\n",
    "grid_DT = GridSearchCV(DT_d12,\n",
    "                       param_grid=params_grid,\n",
    "                       cv=5)"
   ]
  },
  {
   "cell_type": "code",
   "execution_count": 12,
   "metadata": {},
   "outputs": [
    {
     "data": {
      "text/html": [
       "<div>\n",
       "<style scoped>\n",
       "    .dataframe tbody tr th:only-of-type {\n",
       "        vertical-align: middle;\n",
       "    }\n",
       "\n",
       "    .dataframe tbody tr th {\n",
       "        vertical-align: top;\n",
       "    }\n",
       "\n",
       "    .dataframe thead th {\n",
       "        text-align: right;\n",
       "    }\n",
       "</style>\n",
       "<table border=\"1\" class=\"dataframe\">\n",
       "  <thead>\n",
       "    <tr style=\"text-align: right;\">\n",
       "      <th></th>\n",
       "      <th>MNIST_DT_d12_train</th>\n",
       "      <th>MNIST_DT_d12_test</th>\n",
       "    </tr>\n",
       "  </thead>\n",
       "  <tbody>\n",
       "    <tr>\n",
       "      <th>accuracy</th>\n",
       "      <td>0.93465</td>\n",
       "      <td>0.8774</td>\n",
       "    </tr>\n",
       "  </tbody>\n",
       "</table>\n",
       "</div>"
      ],
      "text/plain": [
       "          MNIST_DT_d12_train  MNIST_DT_d12_test\n",
       "accuracy             0.93465             0.8774"
      ]
     },
     "execution_count": 12,
     "metadata": {},
     "output_type": "execute_result"
    }
   ],
   "source": [
    "grid_DT.fit(MNIST_train_images, MNIST_train_labels)\n",
    "\n",
    "MNIST_train_labels_pred = grid_DT.predict(MNIST_train_images)\n",
    "MNIST_test_labels_pred = grid_DT.predict(MNIST_test_images)\n",
    "\n",
    "MNIST_DT_d12_accuracy = pd.concat([show_accuracy(MNIST_train_labels, MNIST_train_labels_pred, 'MNIST_DT_d12_train'),\n",
    "                                  show_accuracy(MNIST_test_labels, MNIST_test_labels_pred, 'MNIST_DT_d12_test')],\n",
    "                                  axis=1)\n",
    "\n",
    "MNIST_DT_d12_accuracy"
   ]
  },
  {
   "attachments": {},
   "cell_type": "markdown",
   "metadata": {},
   "source": [
    "### SVM"
   ]
  },
  {
   "attachments": {},
   "cell_type": "markdown",
   "metadata": {},
   "source": [
    "#### linear"
   ]
  },
  {
   "cell_type": "code",
   "execution_count": 17,
   "metadata": {},
   "outputs": [],
   "source": [
    "SVM_linear = svm.SVC(kernel='linear')"
   ]
  },
  {
   "cell_type": "code",
   "execution_count": 18,
   "metadata": {},
   "outputs": [
    {
     "data": {
      "text/html": [
       "<div>\n",
       "<style scoped>\n",
       "    .dataframe tbody tr th:only-of-type {\n",
       "        vertical-align: middle;\n",
       "    }\n",
       "\n",
       "    .dataframe tbody tr th {\n",
       "        vertical-align: top;\n",
       "    }\n",
       "\n",
       "    .dataframe thead th {\n",
       "        text-align: right;\n",
       "    }\n",
       "</style>\n",
       "<table border=\"1\" class=\"dataframe\">\n",
       "  <thead>\n",
       "    <tr style=\"text-align: right;\">\n",
       "      <th></th>\n",
       "      <th>MNIST_SVM_linear_train</th>\n",
       "      <th>MNIST_SVM_linear_test</th>\n",
       "    </tr>\n",
       "  </thead>\n",
       "  <tbody>\n",
       "    <tr>\n",
       "      <th>accuracy</th>\n",
       "      <td>0.970733</td>\n",
       "      <td>0.9404</td>\n",
       "    </tr>\n",
       "  </tbody>\n",
       "</table>\n",
       "</div>"
      ],
      "text/plain": [
       "          MNIST_SVM_linear_train  MNIST_SVM_linear_test\n",
       "accuracy                0.970733                 0.9404"
      ]
     },
     "execution_count": 18,
     "metadata": {},
     "output_type": "execute_result"
    }
   ],
   "source": [
    "SVM_linear.fit(MNIST_train_images, MNIST_train_labels)\n",
    "\n",
    "MNIST_train_labels_pred = SVM_linear.predict(MNIST_train_images)\n",
    "MNIST_test_labels_pred = SVM_linear.predict(MNIST_test_images)\n",
    "\n",
    "MNIST_SVM_linear_accuracy = pd.concat([show_accuracy(MNIST_train_labels, MNIST_train_labels_pred, 'MNIST_SVM_linear_train'),\n",
    "                                       show_accuracy(MNIST_test_labels, MNIST_test_labels_pred, 'MNIST_SVM_linear_test')],\n",
    "                                       axis=1)\n",
    "\n",
    "MNIST_SVM_linear_accuracy"
   ]
  },
  {
   "attachments": {},
   "cell_type": "markdown",
   "metadata": {},
   "source": [
    "#### rbf"
   ]
  },
  {
   "cell_type": "code",
   "execution_count": 19,
   "metadata": {},
   "outputs": [],
   "source": [
    "SVM_rbf = svm.SVC(kernel='rbf')"
   ]
  },
  {
   "cell_type": "code",
   "execution_count": 20,
   "metadata": {},
   "outputs": [
    {
     "data": {
      "text/html": [
       "<div>\n",
       "<style scoped>\n",
       "    .dataframe tbody tr th:only-of-type {\n",
       "        vertical-align: middle;\n",
       "    }\n",
       "\n",
       "    .dataframe tbody tr th {\n",
       "        vertical-align: top;\n",
       "    }\n",
       "\n",
       "    .dataframe thead th {\n",
       "        text-align: right;\n",
       "    }\n",
       "</style>\n",
       "<table border=\"1\" class=\"dataframe\">\n",
       "  <thead>\n",
       "    <tr style=\"text-align: right;\">\n",
       "      <th></th>\n",
       "      <th>MNIST_SVM_rbf_train</th>\n",
       "      <th>MNIST_SVM_rbf_test</th>\n",
       "    </tr>\n",
       "  </thead>\n",
       "  <tbody>\n",
       "    <tr>\n",
       "      <th>accuracy</th>\n",
       "      <td>0.989917</td>\n",
       "      <td>0.9792</td>\n",
       "    </tr>\n",
       "  </tbody>\n",
       "</table>\n",
       "</div>"
      ],
      "text/plain": [
       "          MNIST_SVM_rbf_train  MNIST_SVM_rbf_test\n",
       "accuracy             0.989917              0.9792"
      ]
     },
     "execution_count": 20,
     "metadata": {},
     "output_type": "execute_result"
    }
   ],
   "source": [
    "SVM_rbf.fit(MNIST_train_images, MNIST_train_labels)\n",
    "\n",
    "MNIST_train_labels_pred = SVM_rbf.predict(MNIST_train_images)\n",
    "MNIST_test_labels_pred = SVM_rbf.predict(MNIST_test_images)\n",
    "\n",
    "MNIST_SVM_rbf_accuracy = pd.concat([show_accuracy(MNIST_train_labels, MNIST_train_labels_pred, 'MNIST_SVM_rbf_train'),\n",
    "                                    show_accuracy(MNIST_test_labels, MNIST_test_labels_pred, 'MNIST_SVM_rbf_test')],\n",
    "                                    axis=1)\n",
    "\n",
    "MNIST_SVM_rbf_accuracy"
   ]
  }
 ],
 "metadata": {
  "kernelspec": {
   "display_name": "Python 3",
   "language": "python",
   "name": "python3"
  },
  "language_info": {
   "codemirror_mode": {
    "name": "ipython",
    "version": 3
   },
   "file_extension": ".py",
   "mimetype": "text/x-python",
   "name": "python",
   "nbconvert_exporter": "python",
   "pygments_lexer": "ipython3",
   "version": "3.10.7"
  },
  "orig_nbformat": 4
 },
 "nbformat": 4,
 "nbformat_minor": 2
}
