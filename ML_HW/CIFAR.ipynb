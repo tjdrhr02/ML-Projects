{
 "cells": [
  {
   "attachments": {},
   "cell_type": "markdown",
   "metadata": {},
   "source": [
    "## ML Assignment 1 - CIFAR, DT, SVM\n",
    "prof. Eunwoo Kim\n",
    "\n",
    "CAU SW 20184286 Donghwa Lee\n",
    "\n",
    "2023.04.21"
   ]
  },
  {
   "cell_type": "code",
   "execution_count": 1,
   "metadata": {},
   "outputs": [],
   "source": [
    "from torch.utils.data import DataLoader\n",
    "from torchvision import transforms, datasets\n",
    "import numpy as np\n",
    "from sklearn import svm\n",
    "from sklearn.metrics import accuracy_score\n",
    "from sklearn.tree import DecisionTreeClassifier\n",
    "from scipy.stats import randint\n",
    "from sklearn.model_selection import GridSearchCV\n",
    "import pandas as pd"
   ]
  },
  {
   "cell_type": "code",
   "execution_count": 2,
   "metadata": {},
   "outputs": [
    {
     "name": "stdout",
     "output_type": "stream",
     "text": [
      "Files already downloaded and verified\n",
      "Files already downloaded and verified\n"
     ]
    }
   ],
   "source": [
    "# CIFAR-10\n",
    "CIFAR_transform_train = transforms.Compose([transforms.ToTensor()])\n",
    "CIFAR_transform_test =transforms.Compose([transforms.ToTensor()])\n",
    "\n",
    "trainset_CIFAR = datasets.CIFAR10(root='./data', train=True, download=True, transform=CIFAR_transform_train)\n",
    "testset_CIFAR = datasets.CIFAR10(root='./data', train=False, download=True,transform=CIFAR_transform_test)\n",
    "\n",
    "CIFAR_train = DataLoader(trainset_CIFAR, batch_size=32, shuffle=True, num_workers=2)\n",
    "CIFAR_test = DataLoader(testset_CIFAR, batch_size=32, shuffle=False, num_workers=2)\n",
    "\n",
    "# MNIST train\n",
    "CIFAR_train_images = []\n",
    "CIFAR_train_labels = []\n",
    "\n",
    "for batch in CIFAR_train:\n",
    "    images, labels = batch\n",
    "    images_flat = images.view(images.shape[0], -1)\n",
    "    CIFAR_train_images.append(images_flat.numpy())\n",
    "    CIFAR_train_labels.append(labels.numpy())\n",
    "\n",
    "CIFAR_train_images = np.vstack(CIFAR_train_images)\n",
    "CIFAR_train_labels = np.concatenate(CIFAR_train_labels)\n",
    "\n",
    "# MNIST test\n",
    "CIFAR_test_images = []\n",
    "CIFAR_test_labels = []\n",
    "\n",
    "for batch in CIFAR_test:\n",
    "    images, labels = batch\n",
    "    images_flat = images.view(images.shape[0], -1)\n",
    "    CIFAR_test_images.append(images_flat.numpy())\n",
    "    CIFAR_test_labels.append(labels.numpy())\n",
    "    \n",
    "CIFAR_test_images = np.vstack(CIFAR_test_images)\n",
    "CIFAR_test_labels = np.concatenate(CIFAR_test_labels)\n",
    "\n",
    "# X = images\n",
    "# y = labels"
   ]
  },
  {
   "cell_type": "code",
   "execution_count": 3,
   "metadata": {},
   "outputs": [],
   "source": [
    "def show_accuracy(y_true, y_pred, model_name):\n",
    "    return pd.Series({'accuracy':accuracy_score(y_true, y_pred)},\n",
    "                      name=model_name)"
   ]
  },
  {
   "attachments": {},
   "cell_type": "markdown",
   "metadata": {},
   "source": [
    "### Decision Tree"
   ]
  },
  {
   "cell_type": "code",
   "execution_count": 4,
   "metadata": {},
   "outputs": [],
   "source": [
    "params_grid = {'min_samples_split':[2, 5, 10],\n",
    "              'min_samples_leaf': [1, 2, 4],\n",
    "              'max_leaf_nodes': [5, 10, None]}"
   ]
  },
  {
   "attachments": {},
   "cell_type": "markdown",
   "metadata": {},
   "source": [
    "##### depth : 3"
   ]
  },
  {
   "cell_type": "code",
   "execution_count": 5,
   "metadata": {},
   "outputs": [],
   "source": [
    "DT_d3 = DecisionTreeClassifier(max_depth=3)\n",
    "\n",
    "grid_DT = GridSearchCV(DT_d3,\n",
    "                       param_grid=params_grid,\n",
    "                       cv=5)"
   ]
  },
  {
   "cell_type": "code",
   "execution_count": 6,
   "metadata": {},
   "outputs": [
    {
     "data": {
      "text/html": [
       "<div>\n",
       "<style scoped>\n",
       "    .dataframe tbody tr th:only-of-type {\n",
       "        vertical-align: middle;\n",
       "    }\n",
       "\n",
       "    .dataframe tbody tr th {\n",
       "        vertical-align: top;\n",
       "    }\n",
       "\n",
       "    .dataframe thead th {\n",
       "        text-align: right;\n",
       "    }\n",
       "</style>\n",
       "<table border=\"1\" class=\"dataframe\">\n",
       "  <thead>\n",
       "    <tr style=\"text-align: right;\">\n",
       "      <th></th>\n",
       "      <th>CIFAR_DT_d3_train</th>\n",
       "      <th>CIFAR_DT_d3_test</th>\n",
       "    </tr>\n",
       "  </thead>\n",
       "  <tbody>\n",
       "    <tr>\n",
       "      <th>accuracy</th>\n",
       "      <td>0.23762</td>\n",
       "      <td>0.2394</td>\n",
       "    </tr>\n",
       "  </tbody>\n",
       "</table>\n",
       "</div>"
      ],
      "text/plain": [
       "          CIFAR_DT_d3_train  CIFAR_DT_d3_test\n",
       "accuracy            0.23762            0.2394"
      ]
     },
     "execution_count": 6,
     "metadata": {},
     "output_type": "execute_result"
    }
   ],
   "source": [
    "grid_DT.fit(CIFAR_train_images, CIFAR_train_labels)\n",
    "\n",
    "CIFAR_train_labels_pred = grid_DT.predict(CIFAR_train_images)\n",
    "CIFAR_test_labels_pred = grid_DT.predict(CIFAR_test_images)\n",
    "\n",
    "CIFAR_DT_d3_accuracy = pd.concat([show_accuracy(CIFAR_train_labels, CIFAR_train_labels_pred, 'CIFAR_DT_d3_train'),\n",
    "                                  show_accuracy(CIFAR_test_labels, CIFAR_test_labels_pred, 'CIFAR_DT_d3_test')],\n",
    "                                  axis=1)\n",
    "\n",
    "CIFAR_DT_d3_accuracy"
   ]
  },
  {
   "attachments": {},
   "cell_type": "markdown",
   "metadata": {},
   "source": [
    "##### depth : 6"
   ]
  },
  {
   "cell_type": "code",
   "execution_count": 7,
   "metadata": {},
   "outputs": [],
   "source": [
    "DT_d6 = DecisionTreeClassifier(max_depth=6)\n",
    "\n",
    "grid_DT = GridSearchCV(DT_d6,\n",
    "                       param_grid=params_grid,\n",
    "                       cv=5)"
   ]
  },
  {
   "cell_type": "code",
   "execution_count": 8,
   "metadata": {},
   "outputs": [
    {
     "data": {
      "text/html": [
       "<div>\n",
       "<style scoped>\n",
       "    .dataframe tbody tr th:only-of-type {\n",
       "        vertical-align: middle;\n",
       "    }\n",
       "\n",
       "    .dataframe tbody tr th {\n",
       "        vertical-align: top;\n",
       "    }\n",
       "\n",
       "    .dataframe thead th {\n",
       "        text-align: right;\n",
       "    }\n",
       "</style>\n",
       "<table border=\"1\" class=\"dataframe\">\n",
       "  <thead>\n",
       "    <tr style=\"text-align: right;\">\n",
       "      <th></th>\n",
       "      <th>CIFAR_DT_d6_train</th>\n",
       "      <th>CIFAR_DT_d6_test</th>\n",
       "    </tr>\n",
       "  </thead>\n",
       "  <tbody>\n",
       "    <tr>\n",
       "      <th>accuracy</th>\n",
       "      <td>0.29588</td>\n",
       "      <td>0.2812</td>\n",
       "    </tr>\n",
       "  </tbody>\n",
       "</table>\n",
       "</div>"
      ],
      "text/plain": [
       "          CIFAR_DT_d6_train  CIFAR_DT_d6_test\n",
       "accuracy            0.29588            0.2812"
      ]
     },
     "execution_count": 8,
     "metadata": {},
     "output_type": "execute_result"
    }
   ],
   "source": [
    "grid_DT.fit(CIFAR_train_images, CIFAR_train_labels)\n",
    "\n",
    "CIFAR_train_labels_pred = grid_DT.predict(CIFAR_train_images)\n",
    "CIFAR_test_labels_pred = grid_DT.predict(CIFAR_test_images)\n",
    "\n",
    "CIFAR_DT_d6_accuracy = pd.concat([show_accuracy(CIFAR_train_labels, CIFAR_train_labels_pred, 'CIFAR_DT_d6_train'),\n",
    "                                  show_accuracy(CIFAR_test_labels, CIFAR_test_labels_pred, 'CIFAR_DT_d6_test')],\n",
    "                                  axis=1)\n",
    "\n",
    "CIFAR_DT_d6_accuracy"
   ]
  },
  {
   "attachments": {},
   "cell_type": "markdown",
   "metadata": {},
   "source": [
    "#### depth : 9"
   ]
  },
  {
   "cell_type": "code",
   "execution_count": 9,
   "metadata": {},
   "outputs": [],
   "source": [
    "DT_d9 = DecisionTreeClassifier(max_depth=9)\n",
    "\n",
    "grid_DT = GridSearchCV(DT_d9,\n",
    "                       param_grid=params_grid,\n",
    "                       cv=5)"
   ]
  },
  {
   "cell_type": "code",
   "execution_count": 10,
   "metadata": {},
   "outputs": [
    {
     "data": {
      "text/html": [
       "<div>\n",
       "<style scoped>\n",
       "    .dataframe tbody tr th:only-of-type {\n",
       "        vertical-align: middle;\n",
       "    }\n",
       "\n",
       "    .dataframe tbody tr th {\n",
       "        vertical-align: top;\n",
       "    }\n",
       "\n",
       "    .dataframe thead th {\n",
       "        text-align: right;\n",
       "    }\n",
       "</style>\n",
       "<table border=\"1\" class=\"dataframe\">\n",
       "  <thead>\n",
       "    <tr style=\"text-align: right;\">\n",
       "      <th></th>\n",
       "      <th>CIFAR_DT_d9_train</th>\n",
       "      <th>CIFAR_DT_d9_test</th>\n",
       "    </tr>\n",
       "  </thead>\n",
       "  <tbody>\n",
       "    <tr>\n",
       "      <th>accuracy</th>\n",
       "      <td>0.38212</td>\n",
       "      <td>0.3042</td>\n",
       "    </tr>\n",
       "  </tbody>\n",
       "</table>\n",
       "</div>"
      ],
      "text/plain": [
       "          CIFAR_DT_d9_train  CIFAR_DT_d9_test\n",
       "accuracy            0.38212            0.3042"
      ]
     },
     "execution_count": 10,
     "metadata": {},
     "output_type": "execute_result"
    }
   ],
   "source": [
    "grid_DT.fit(CIFAR_train_images, CIFAR_train_labels)\n",
    "\n",
    "CIFAR_train_labels_pred = grid_DT.predict(CIFAR_train_images)\n",
    "CIFAR_test_labels_pred = grid_DT.predict(CIFAR_test_images)\n",
    "\n",
    "CIFAR_DT_d9_accuracy = pd.concat([show_accuracy(CIFAR_train_labels, CIFAR_train_labels_pred, 'CIFAR_DT_d9_train'),\n",
    "                                  show_accuracy(CIFAR_test_labels, CIFAR_test_labels_pred, 'CIFAR_DT_d9_test')],\n",
    "                                  axis=1)\n",
    "\n",
    "CIFAR_DT_d9_accuracy"
   ]
  },
  {
   "attachments": {},
   "cell_type": "markdown",
   "metadata": {},
   "source": [
    "#### depth : 12"
   ]
  },
  {
   "cell_type": "code",
   "execution_count": 11,
   "metadata": {},
   "outputs": [],
   "source": [
    "DT_d12 = DecisionTreeClassifier(max_depth=12)\n",
    "\n",
    "grid_DT = GridSearchCV(DT_d12,\n",
    "                       param_grid=params_grid,\n",
    "                       cv=5)"
   ]
  },
  {
   "cell_type": "code",
   "execution_count": 12,
   "metadata": {},
   "outputs": [
    {
     "data": {
      "text/html": [
       "<div>\n",
       "<style scoped>\n",
       "    .dataframe tbody tr th:only-of-type {\n",
       "        vertical-align: middle;\n",
       "    }\n",
       "\n",
       "    .dataframe tbody tr th {\n",
       "        vertical-align: top;\n",
       "    }\n",
       "\n",
       "    .dataframe thead th {\n",
       "        text-align: right;\n",
       "    }\n",
       "</style>\n",
       "<table border=\"1\" class=\"dataframe\">\n",
       "  <thead>\n",
       "    <tr style=\"text-align: right;\">\n",
       "      <th></th>\n",
       "      <th>CIFAR_DT_d12_train</th>\n",
       "      <th>CIFAR_DT_d12_test</th>\n",
       "    </tr>\n",
       "  </thead>\n",
       "  <tbody>\n",
       "    <tr>\n",
       "      <th>accuracy</th>\n",
       "      <td>0.51882</td>\n",
       "      <td>0.3036</td>\n",
       "    </tr>\n",
       "  </tbody>\n",
       "</table>\n",
       "</div>"
      ],
      "text/plain": [
       "          CIFAR_DT_d12_train  CIFAR_DT_d12_test\n",
       "accuracy             0.51882             0.3036"
      ]
     },
     "execution_count": 12,
     "metadata": {},
     "output_type": "execute_result"
    }
   ],
   "source": [
    "grid_DT.fit(CIFAR_train_images, CIFAR_train_labels)\n",
    "\n",
    "CIFAR_train_labels_pred = grid_DT.predict(CIFAR_train_images)\n",
    "CIFAR_test_labels_pred = grid_DT.predict(CIFAR_test_images)\n",
    "\n",
    "CIFAR_DT_d12_accuracy = pd.concat([show_accuracy(CIFAR_train_labels, CIFAR_train_labels_pred, 'CIFAR_DT_d12_train'),\n",
    "                                  show_accuracy(CIFAR_test_labels, CIFAR_test_labels_pred, 'CIFAR_DT_d12_test')],\n",
    "                                  axis=1)\n",
    "\n",
    "CIFAR_DT_d12_accuracy"
   ]
  },
  {
   "attachments": {},
   "cell_type": "markdown",
   "metadata": {},
   "source": [
    "### SVM"
   ]
  },
  {
   "attachments": {},
   "cell_type": "markdown",
   "metadata": {},
   "source": [
    "#### linear"
   ]
  },
  {
   "cell_type": "code",
   "execution_count": 13,
   "metadata": {},
   "outputs": [],
   "source": [
    "SVM_linear = svm.SVC(kernel='linear')"
   ]
  },
  {
   "cell_type": "code",
   "execution_count": 14,
   "metadata": {},
   "outputs": [
    {
     "data": {
      "text/html": [
       "<div>\n",
       "<style scoped>\n",
       "    .dataframe tbody tr th:only-of-type {\n",
       "        vertical-align: middle;\n",
       "    }\n",
       "\n",
       "    .dataframe tbody tr th {\n",
       "        vertical-align: top;\n",
       "    }\n",
       "\n",
       "    .dataframe thead th {\n",
       "        text-align: right;\n",
       "    }\n",
       "</style>\n",
       "<table border=\"1\" class=\"dataframe\">\n",
       "  <thead>\n",
       "    <tr style=\"text-align: right;\">\n",
       "      <th></th>\n",
       "      <th>CIFAR_SVM_linear_train</th>\n",
       "      <th>CIFAR_SVM_linear_test</th>\n",
       "    </tr>\n",
       "  </thead>\n",
       "  <tbody>\n",
       "    <tr>\n",
       "      <th>accuracy</th>\n",
       "      <td>0.57488</td>\n",
       "      <td>0.3755</td>\n",
       "    </tr>\n",
       "  </tbody>\n",
       "</table>\n",
       "</div>"
      ],
      "text/plain": [
       "          CIFAR_SVM_linear_train  CIFAR_SVM_linear_test\n",
       "accuracy                 0.57488                 0.3755"
      ]
     },
     "execution_count": 14,
     "metadata": {},
     "output_type": "execute_result"
    }
   ],
   "source": [
    "SVM_linear.fit(CIFAR_train_images, CIFAR_train_labels)\n",
    "\n",
    "CIFAR_train_labels_pred = SVM_linear.predict(CIFAR_train_images)\n",
    "CIFAR_test_labels_pred = SVM_linear.predict(CIFAR_test_images)\n",
    "\n",
    "CIFAR_SVM_linear_accuracy = pd.concat([show_accuracy(CIFAR_train_labels, CIFAR_train_labels_pred, 'CIFAR_SVM_linear_train'),\n",
    "                                       show_accuracy(CIFAR_test_labels, CIFAR_test_labels_pred, 'CIFAR_SVM_linear_test')],\n",
    "                                       axis=1)\n",
    "\n",
    "CIFAR_SVM_linear_accuracy"
   ]
  },
  {
   "attachments": {},
   "cell_type": "markdown",
   "metadata": {},
   "source": [
    "#### rbf"
   ]
  },
  {
   "cell_type": "code",
   "execution_count": 15,
   "metadata": {},
   "outputs": [],
   "source": [
    "SVM_rbf = svm.SVC(kernel='rbf')"
   ]
  },
  {
   "cell_type": "code",
   "execution_count": 16,
   "metadata": {},
   "outputs": [
    {
     "data": {
      "text/html": [
       "<div>\n",
       "<style scoped>\n",
       "    .dataframe tbody tr th:only-of-type {\n",
       "        vertical-align: middle;\n",
       "    }\n",
       "\n",
       "    .dataframe tbody tr th {\n",
       "        vertical-align: top;\n",
       "    }\n",
       "\n",
       "    .dataframe thead th {\n",
       "        text-align: right;\n",
       "    }\n",
       "</style>\n",
       "<table border=\"1\" class=\"dataframe\">\n",
       "  <thead>\n",
       "    <tr style=\"text-align: right;\">\n",
       "      <th></th>\n",
       "      <th>CIFAR_SVM_rbf_train</th>\n",
       "      <th>CIFAR_SVM_rbf_test</th>\n",
       "    </tr>\n",
       "  </thead>\n",
       "  <tbody>\n",
       "    <tr>\n",
       "      <th>accuracy</th>\n",
       "      <td>0.70284</td>\n",
       "      <td>0.5436</td>\n",
       "    </tr>\n",
       "  </tbody>\n",
       "</table>\n",
       "</div>"
      ],
      "text/plain": [
       "          CIFAR_SVM_rbf_train  CIFAR_SVM_rbf_test\n",
       "accuracy              0.70284              0.5436"
      ]
     },
     "execution_count": 16,
     "metadata": {},
     "output_type": "execute_result"
    }
   ],
   "source": [
    "SVM_rbf.fit(CIFAR_train_images, CIFAR_train_labels)\n",
    "\n",
    "CIFAR_train_labels_pred = SVM_rbf.predict(CIFAR_train_images)\n",
    "CIFAR_test_labels_pred = SVM_rbf.predict(CIFAR_test_images)\n",
    "\n",
    "CIFAR_SVM_rbf_accuracy = pd.concat([show_accuracy(CIFAR_train_labels, CIFAR_train_labels_pred, 'CIFAR_SVM_rbf_train'),\n",
    "                                    show_accuracy(CIFAR_test_labels, CIFAR_test_labels_pred, 'CIFAR_SVM_rbf_test')],\n",
    "                                    axis=1)\n",
    "\n",
    "CIFAR_SVM_rbf_accuracy"
   ]
  }
 ],
 "metadata": {
  "kernelspec": {
   "display_name": "Python 3",
   "language": "python",
   "name": "python3"
  },
  "language_info": {
   "codemirror_mode": {
    "name": "ipython",
    "version": 3
   },
   "file_extension": ".py",
   "mimetype": "text/x-python",
   "name": "python",
   "nbconvert_exporter": "python",
   "pygments_lexer": "ipython3",
   "version": "3.10.7"
  },
  "orig_nbformat": 4
 },
 "nbformat": 4,
 "nbformat_minor": 2
}
